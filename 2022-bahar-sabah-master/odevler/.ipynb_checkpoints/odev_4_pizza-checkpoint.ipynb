{
 "cells": [
  {
   "cell_type": "code",
   "execution_count": 14,
   "id": "4917b2db-a6a6-4589-b1e1-eba5a7174efc",
   "metadata": {},
   "outputs": [
    {
     "name": "stdin",
     "output_type": "stream",
     "text": [
      "Lütfen küçük pizza fiyatı giriniz(TL):  20\n",
      "Lütfen küçük pizza çapını giriniz(cm):  20\n"
     ]
    },
    {
     "name": "stdout",
     "output_type": "stream",
     "text": [
      "Küçük pizza performans puanı(%) : 6\n"
     ]
    },
    {
     "name": "stdin",
     "output_type": "stream",
     "text": [
      "Lütfen büyük pizza fiyatı giriniz(TL):  40\n",
      "Lütfen büyük pizza çapını giriniz(cm):  40\n"
     ]
    },
    {
     "name": "stdout",
     "output_type": "stream",
     "text": [
      "Büyük pizza performans puanı(%) : 3\n"
     ]
    }
   ],
   "source": [
    "pi = 3.14\n",
    "\n",
    "def kucuk_pizza_performans(*args):\n",
    "           \n",
    "    pizza_fiyati = int(input(\"Lütfen küçük pizza fiyatı giriniz(TL): \"))\n",
    "    \n",
    "    pizza_capi = int(input(\"Lütfen küçük pizza çapını giriniz(cm): \"))\n",
    "\n",
    "    pizza_alani = pi * (pizza_capi/2)**2\n",
    "    \n",
    "    performans = pizza_fiyati / pizza_alani * 100\n",
    "    \n",
    "    return performans \n",
    "\n",
    "print(\"Küçük pizza performans puanı(%) :\", round(kucuk_pizza_performans()))\n",
    "\n",
    "\n",
    "\n",
    "    \n",
    "def buyuk_pizza_performans(*args):\n",
    "           \n",
    "    buyuk_pizza_fiyati = int(input(\"Lütfen büyük pizza fiyatı giriniz(TL): \"))\n",
    "    \n",
    "    buyuk_pizza_capi = int(input(\"Lütfen büyük pizza çapını giriniz(cm): \"))\n",
    "\n",
    "    buyuk_pizza_alani = pi * (buyuk_pizza_capi/2)**2\n",
    "    \n",
    "    buyuk_performans = buyuk_pizza_fiyati / buyuk_pizza_alani * 100\n",
    "    \n",
    "    return buyuk_performans\n",
    "\n",
    "\n",
    "print(\"Büyük pizza performans puanı(%) :\", round(buyuk_pizza_performans()))\n",
    "\n",
    "\n",
    "\n",
    "# def performans_kiyasla():\n",
    "    \n",
    "#     if performans() > buyuk_performans():\n",
    "#         print(\"Küçük pizza dah verimlidir.\")\n",
    "#     else:\n",
    "#         print(\"Büyük pizza daha verimlidir.\")\n",
    "     \n",
    "#     return\n",
    "    \n"
   ]
  },
  {
   "cell_type": "code",
   "execution_count": 19,
   "id": "98b283a6-6620-45a9-a724-a684c57e8b30",
   "metadata": {},
   "outputs": [
    {
     "name": "stdin",
     "output_type": "stream",
     "text": [
      "Lütfen küçük pizza fiyatı giriniz(TL):  20\n",
      "Lütfen küçük pizza çapını giriniz(cm):  20\n",
      "Lütfen büyük pizza fiyatı giriniz(TL):  40\n",
      "Lütfen büyük pizza çapını giriniz(cm):  40\n"
     ]
    },
    {
     "name": "stdout",
     "output_type": "stream",
     "text": [
      "Büyük pizza % 12.738853503184714 performans ile daha başarılıdır.\n",
      "Küçük pizza performansı % 6.369426751592357 de kalmıştır.\n"
     ]
    }
   ],
   "source": [
    "kucuk_pizza_fiyati = int(input(\"Lütfen küçük pizza fiyatı giriniz(TL): \"))\n",
    "    \n",
    "kucuk_pizza_capi = int(input(\"Lütfen küçük pizza çapını giriniz(cm): \"))\n",
    "    \n",
    "buyuk_pizza_fiyati = int(input(\"Lütfen büyük pizza fiyatı giriniz(TL): \"))\n",
    "    \n",
    "buyuk_pizza_capi = int(input(\"Lütfen büyük pizza çapını giriniz(cm): \"))\n",
    "\n",
    "pi = 3.14\n",
    "\n",
    "kucuk_performans = 0\n",
    "\n",
    "buyuk_performans = 0\n",
    "\n",
    "def pizza_verimlilik():\n",
    "        \n",
    "    kucuk_pizza_alani = pi * (kucuk_pizza_capi / 2)**2\n",
    "    \n",
    "    kucuk_performans = kucuk_pizza_fiyati / kucuk_pizza_alani * 100\n",
    "    \n",
    "    buyuk_pizza_alani = pi * (buyuk_pizza_capi / 2)**2\n",
    "    \n",
    "    buyuk_performans = buyuk_pizza_fiyati / kucuk_pizza_alani * 100\n",
    "    \n",
    "        \n",
    "    if kucuk_performans > buyuk_performans:\n",
    "        \n",
    "        print(f\"Küçük pizza % {kucuk_performans} performans ile daha başarılıdır.\")\n",
    "        print(f\"Büyük pizza performansı % {buyuk_performans} de kalmıştır.\")\n",
    "        \n",
    "    else:\n",
    "        \n",
    "        print(f\"Büyük pizza % {buyuk_performans} performans ile daha başarılıdır.\")\n",
    "        print(f\"Küçük pizza performansı % {kucuk_performans} de kalmıştır.\")\n",
    "        \n",
    "pizza_verimlilik()"
   ]
  },
  {
   "cell_type": "code",
   "execution_count": null,
   "id": "285b601a-d697-4ef6-8e8c-3021a51605c4",
   "metadata": {},
   "outputs": [],
   "source": []
  }
 ],
 "metadata": {
  "kernelspec": {
   "display_name": "Python 3 (ipykernel)",
   "language": "python",
   "name": "python3"
  },
  "language_info": {
   "codemirror_mode": {
    "name": "ipython",
    "version": 3
   },
   "file_extension": ".py",
   "mimetype": "text/x-python",
   "name": "python",
   "nbconvert_exporter": "python",
   "pygments_lexer": "ipython3",
   "version": "3.9.12"
  }
 },
 "nbformat": 4,
 "nbformat_minor": 5
}
